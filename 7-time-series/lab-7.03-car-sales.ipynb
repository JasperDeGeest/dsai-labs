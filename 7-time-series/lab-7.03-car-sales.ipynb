{
  "cells": [
    {
      "cell_type": "markdown",
      "metadata": {
        "id": "ifLP6PF2VNyG"
      },
      "source": [
        "# Lab 7.03 - Time series analysis"
      ]
    },
    {
      "cell_type": "code",
      "execution_count": null,
      "metadata": {
        "id": "PwYaTAjzVNyI"
      },
      "outputs": [],
      "source": [
        "# Package imports\n",
        "\n"
      ]
    },
    {
      "cell_type": "markdown",
      "metadata": {
        "id": "nsaevyk8itxA"
      },
      "source": [
        "## Exercise 3 - Car sales\n",
        "\n",
        "An automobile dealer is using Holt's method to\n",
        "forecast weekly car sales. Currently, the level is\n",
        "estimated to be 50 cars per week, and the trend is\n",
        "estimated to be six cars per week. During the current\n",
        "week, 30 cars are sold. After observing the current\n",
        "week's sales, forecast the number of cars three weeks\n",
        "from now. Use $α = $β = 0.3.\n",
        "\n",
        "These are the appropriate formulae\n",
        "\n",
        "$X_{t} = \\alpha x_{t} + (1-\\alpha)(X_{t-1} + b_{t-1})$\n",
        "\n",
        "$b_{t} = \\beta(X_{t}-X_{t-1}) + (1-\\beta)b_{t-1}$\n",
        "\n",
        "$F_{t+m} = X_t + mb_t$"
      ]
    },
    {
      "cell_type": "code",
      "execution_count": 1,
      "metadata": {},
      "outputs": [
        {
          "data": {
            "text/plain": [
              "59.17999999999999"
            ]
          },
          "execution_count": 1,
          "metadata": {},
          "output_type": "execute_result"
        }
      ],
      "source": [
        "# Aantal weken vooruit waarvoor we willen voorspellen (m = 3 weken)\n",
        "m = 3\n",
        "\n",
        "# Smoothing parameters voor niveau (alpha) en trend (beta)\n",
        "alpha = 0.3\n",
        "beta = 0.3\n",
        "\n",
        "# Werkelijke verkoop in de huidige week\n",
        "x_t = 30\n",
        "\n",
        "# Niveau (X) van vorige week — dit is de geschatte verkoop van vorige week\n",
        "x_t_min1 = 50\n",
        "\n",
        "# Trend (b) van vorige week — dit is de verwachte toename per week\n",
        "b_t_min1 = 6\n",
        "\n",
        "# Bereken het nieuwe niveau (X_t) volgens Holt’s methode\n",
        "# Combinatie van de actuele waarneming en de voortgeschreven voorspelling\n",
        "X_t = alpha * x_t + (1 - alpha) * (x_t_min1 + b_t_min1)\n",
        "\n",
        "# Bereken de nieuwe trend (b_t)\n",
        "# Gebaseerd op de verandering in niveau en de vorige trend\n",
        "b_t = beta * (X_t - x_t_min1) + (1 - beta) * b_t_min1\n",
        "\n",
        "# Voorspel de verkoop over 3 weken in de toekomst\n",
        "# Op basis van het nieuwe niveau plus 3 keer de nieuwe trend\n",
        "F_t_plus_3 = X_t + m * b_t\n",
        "\n",
        "# Toon het resultaat: voorspelde verkoop over 3 weken\n",
        "F_t_plus_3\n"
      ]
    },
    {
      "cell_type": "markdown",
      "metadata": {
        "id": "OzaYuRuogzWf"
      },
      "source": [
        "## Source\n",
        "Business Analytics Data Analysis & Decision Making "
      ]
    }
  ],
  "metadata": {
    "colab": {
      "provenance": []
    },
    "kernelspec": {
      "display_name": "Python 3",
      "language": "python",
      "name": "python3"
    },
    "language_info": {
      "codemirror_mode": {
        "name": "ipython",
        "version": 3
      },
      "file_extension": ".py",
      "mimetype": "text/x-python",
      "name": "python",
      "nbconvert_exporter": "python",
      "pygments_lexer": "ipython3",
      "version": "3.13.3"
    },
    "orig_nbformat": 4
  },
  "nbformat": 4,
  "nbformat_minor": 0
}
