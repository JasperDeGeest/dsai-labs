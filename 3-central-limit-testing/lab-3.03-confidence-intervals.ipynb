{
  "cells": [
    {
      "cell_type": "markdown",
      "metadata": {
        "id": "M179_lET0jSn"
      },
      "source": [
        "# Lab 3.03 - Confidence intervals\n"
      ]
    },
    {
      "cell_type": "code",
      "execution_count": 1,
      "metadata": {},
      "outputs": [],
      "source": [
        "# Package imports for data science\n",
        "import numpy as np\n",
        "import pandas as pd\n",
        "import scipy.stats as stats\n",
        "from pandas.api.types import CategoricalDtype\n",
        "import matplotlib.pyplot as plt\n",
        "import seaborn as sns\n",
        "from statsmodels.graphics.mosaicplot import mosaic"
      ]
    },
    {
      "cell_type": "markdown",
      "metadata": {
        "id": "c0Q7INQrFUZK"
      },
      "source": [
        "## Exercise 1 - rlanders\n",
        "\n",
        "Load the dataset data/rlanders.csv. Use the column Money.  \n",
        "We assume that the values from this sample are normally distributed around a population mean $\\mu$ that is unknown, but that the standard deviation of the population is known, i.e. $\\sigma = 98$.\n"
      ]
    },
    {
      "cell_type": "code",
      "execution_count": 2,
      "metadata": {
        "colab": {
          "base_uri": "https://localhost:8080/",
          "height": 206
        },
        "id": "X8SWRipx3I9_",
        "outputId": "90a9819a-4e5a-4a35-ed25-233824cd0809"
      },
      "outputs": [
        {
          "data": {
            "text/html": [
              "<div>\n",
              "<style scoped>\n",
              "    .dataframe tbody tr th:only-of-type {\n",
              "        vertical-align: middle;\n",
              "    }\n",
              "\n",
              "    .dataframe tbody tr th {\n",
              "        vertical-align: top;\n",
              "    }\n",
              "\n",
              "    .dataframe thead th {\n",
              "        text-align: right;\n",
              "    }\n",
              "</style>\n",
              "<table border=\"1\" class=\"dataframe\">\n",
              "  <thead>\n",
              "    <tr style=\"text-align: right;\">\n",
              "      <th></th>\n",
              "      <th>Gender</th>\n",
              "      <th>Money</th>\n",
              "      <th>Days</th>\n",
              "      <th>Months</th>\n",
              "      <th>Count</th>\n",
              "      <th>Survey</th>\n",
              "    </tr>\n",
              "    <tr>\n",
              "      <th>ID</th>\n",
              "      <th></th>\n",
              "      <th></th>\n",
              "      <th></th>\n",
              "      <th></th>\n",
              "      <th></th>\n",
              "      <th></th>\n",
              "    </tr>\n",
              "  </thead>\n",
              "  <tbody>\n",
              "    <tr>\n",
              "      <th>1</th>\n",
              "      <td>Female</td>\n",
              "      <td>440</td>\n",
              "      <td>29</td>\n",
              "      <td>11</td>\n",
              "      <td>35</td>\n",
              "      <td>3</td>\n",
              "    </tr>\n",
              "    <tr>\n",
              "      <th>2</th>\n",
              "      <td>Female</td>\n",
              "      <td>503</td>\n",
              "      <td>23</td>\n",
              "      <td>10</td>\n",
              "      <td>52</td>\n",
              "      <td>3</td>\n",
              "    </tr>\n",
              "    <tr>\n",
              "      <th>3</th>\n",
              "      <td>Male</td>\n",
              "      <td>412</td>\n",
              "      <td>16</td>\n",
              "      <td>11</td>\n",
              "      <td>55</td>\n",
              "      <td>3</td>\n",
              "    </tr>\n",
              "    <tr>\n",
              "      <th>4</th>\n",
              "      <td>Male</td>\n",
              "      <td>587</td>\n",
              "      <td>25</td>\n",
              "      <td>9</td>\n",
              "      <td>28</td>\n",
              "      <td>5</td>\n",
              "    </tr>\n",
              "    <tr>\n",
              "      <th>5</th>\n",
              "      <td>Male</td>\n",
              "      <td>525</td>\n",
              "      <td>30</td>\n",
              "      <td>11</td>\n",
              "      <td>41</td>\n",
              "      <td>4</td>\n",
              "    </tr>\n",
              "  </tbody>\n",
              "</table>\n",
              "</div>"
            ],
            "text/plain": [
              "    Gender  Money  Days  Months  Count  Survey\n",
              "ID                                            \n",
              "1   Female    440    29      11     35       3\n",
              "2   Female    503    23      10     52       3\n",
              "3     Male    412    16      11     55       3\n",
              "4     Male    587    25       9     28       5\n",
              "5     Male    525    30      11     41       4"
            ]
          },
          "execution_count": 2,
          "metadata": {},
          "output_type": "execute_result"
        }
      ],
      "source": [
        "rlanders = pd.read_csv('https://raw.githubusercontent.com/HoGentTIN/dsai-en-labs/main/data/rlanders.csv').set_index(['ID'])\n",
        "# Show the first few records of the Data Frame\n",
        "rlanders.head()"
      ]
    },
    {
      "cell_type": "markdown",
      "metadata": {
        "id": "micQS-lB-91P"
      },
      "source": [
        "Calculate a 99% confidence interval for the population mean (Answer: [484.191, 516.121])."
      ]
    },
    {
      "cell_type": "code",
      "execution_count": 10,
      "metadata": {
        "id": "9fpkhHkK5W4n"
      },
      "outputs": [
        {
          "name": "stdout",
          "output_type": "stream",
          "text": [
            "Confidence interval: [484.191, 516.121]\n"
          ]
        }
      ],
      "source": [
        "money = rlanders.Money\n",
        "\n",
        "m = money.mean()\n",
        "s = 98 #population\n",
        "n = money.count()\n",
        "print(\"Confidence interval: [%.3f, %.3f]\" % stats.norm.interval(0.99, loc=m, scale=s/np.sqrt(n)))\n",
        "\n"
      ]
    },
    {
      "cell_type": "markdown",
      "metadata": {
        "id": "ECERz_63_By6"
      },
      "source": [
        "Calculate a 95% confidence interval for the population mean. (Answer =  [488.008, 512.304])"
      ]
    },
    {
      "cell_type": "code",
      "execution_count": 11,
      "metadata": {
        "id": "QN2HodqW-aOS"
      },
      "outputs": [
        {
          "name": "stdout",
          "output_type": "stream",
          "text": [
            "Confidence interval: [488.008, 512.304]\n"
          ]
        }
      ],
      "source": [
        "m = money.mean()\n",
        "s = 98\n",
        "n = money.count()\n",
        "print(\"Confidence interval: [%.3f, %.3f]\" % stats.norm.interval(0.95, loc=m, scale=s/np.sqrt(n)))\n"
      ]
    },
    {
      "cell_type": "markdown",
      "metadata": {
        "id": "T_tvkbrf_InR"
      },
      "source": [
        "Suppose σ is unknown, calculate a 95% confidence interval for the population mean. (Answer = [487.319, 512.993])"
      ]
    },
    {
      "cell_type": "code",
      "execution_count": 14,
      "metadata": {
        "id": "NHUe10TR_H-I"
      },
      "outputs": [
        {
          "name": "stdout",
          "output_type": "stream",
          "text": [
            "Confidence interval: [487.319, 512.993]\n"
          ]
        }
      ],
      "source": [
        "\n",
        "m = money.mean()\n",
        "s = money.std()\n",
        "n = money.count()\n",
        "\n",
        "CI95 = stats.t.interval(0.95, df= n-1, loc=m, scale=s/np.sqrt(n))\n",
        "print(\"Confidence interval: [%.3f, %.3f]\" % CI95)\n"
      ]
    },
    {
      "cell_type": "markdown",
      "metadata": {
        "id": "OPNlp4TS_nU3"
      },
      "source": [
        "Finally, suppose the sample consists of only the first 25 observations in this dataset. Calculate a 95% confidence interval for this situation.  \n",
        "(Answer = [450.291,536.669])"
      ]
    },
    {
      "cell_type": "code",
      "execution_count": 13,
      "metadata": {
        "id": "5_73IDTY_sgO"
      },
      "outputs": [
        {
          "name": "stdout",
          "output_type": "stream",
          "text": [
            "Confidence interval: [450.291, 536.669]\n"
          ]
        }
      ],
      "source": [
        "money25 = rlanders.Money[:25]\n",
        "\n",
        "m = money25.mean()\n",
        "s = money25.std()\n",
        "n = money25.count()\n",
        "\n",
        "CI95 = stats.t.interval(0.95, df=n-1, loc=m, scale=s/np.sqrt(n))\n",
        "print(\"Confidence interval: [%.3f, %.3f]\" % CI95)\n"
      ]
    },
    {
      "cell_type": "markdown",
      "metadata": {},
      "source": [
        "## Exercise 2\n",
        "\n",
        "1. How do you calculate the upper and lower limits of a 95% and 99% confidence interval?\n",
        "2. A 99% confidence interval is [**wider**/narrower/the same width] as a 95% confidence interval. Why?\n",
        "\n",
        "**Because the outer limits are 0,1**\n",
        "3. What would a 100% confidence interval look like? **inf to inf**"
      ]
    },
    {
      "cell_type": "code",
      "execution_count": 16,
      "metadata": {},
      "outputs": [
        {
          "name": "stdout",
          "output_type": "stream",
          "text": [
            "CI95: [487.31892 , 512.99308]\n",
            "CI99: [483.23759 , 517.07441]\n",
            "CI100:[ -inf , inf]\n"
          ]
        }
      ],
      "source": [
        "\n",
        "m = money.mean()\n",
        "s = money.std()\n",
        "n = money.count()\n",
        "\n",
        "a,b = stats.t.interval(0.95, df= n-1, loc=m, scale=s/np.sqrt(n))\n",
        "c,d = stats.t.interval(0.99, df= n-1, loc=m, scale=s/np.sqrt(n))\n",
        "e,f = stats.t.interval(1, df= n-1, loc=m, scale=s/np.sqrt(n))\n",
        "print(f\"CI95: [{a:.5f} , {b:.5f}]\")\n",
        "print(f\"CI99: [{c:.5f} , {d:.5f}]\")\n",
        "print(f\"CI100:[ {e:.5f} , {f:.2f}]\")"
      ]
    }
  ],
  "metadata": {
    "colab": {
      "collapsed_sections": [],
      "name": "lab-3-01.ipynb",
      "provenance": []
    },
    "kernelspec": {
      "display_name": ".venv",
      "language": "python",
      "name": "python3"
    },
    "language_info": {
      "codemirror_mode": {
        "name": "ipython",
        "version": 3
      },
      "file_extension": ".py",
      "mimetype": "text/x-python",
      "name": "python",
      "nbconvert_exporter": "python",
      "pygments_lexer": "ipython3",
      "version": "3.13.3"
    },
    "orig_nbformat": 4
  },
  "nbformat": 4,
  "nbformat_minor": 0
}
