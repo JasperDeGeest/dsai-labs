{
  "cells": [
    {
      "cell_type": "markdown",
      "metadata": {
        "id": "dYTxJWJG5miJ"
      },
      "source": [
        "# Lab 2.02 - Univariate Analysis\n"
      ]
    },
    {
      "cell_type": "code",
      "execution_count": 11,
      "metadata": {
        "id": "MvwMKfrI8X-p"
      },
      "outputs": [],
      "source": [
        "# Importing the necessary packages\n",
        "import numpy as np                                  # \"Scientific computing\"\n",
        "import scipy.stats as stats                         # Statistical tests\n",
        "\n",
        "import pandas as pd                                 # Data Frame\n",
        "from pandas.api.types import CategoricalDtype\n",
        "\n",
        "import matplotlib.pyplot as plt                     # Basic visualisation\n",
        "from statsmodels.graphics.mosaicplot import mosaic  # Mosaic diagram\n",
        "import seaborn as sns                               # Advanced data visualisation"
      ]
    },
    {
      "cell_type": "markdown",
      "metadata": {
        "id": "ISZtcLRc8qHI"
      },
      "source": [
        "## Exercise 2\n",
        "\n",
        "The length of time, in minutes, that customers spend in a coffee shop is recorded. Calculate the following statistics:\n",
        "\n",
        "- Median\n",
        "- Range\n",
        "- Quartiles\n",
        "- Interquartile range\n",
        "\n",
        "Source: Complete Probability & Statistics 1 for Cambridge International As & A Level"
      ]
    },
    {
      "cell_type": "code",
      "execution_count": 21,
      "metadata": {
        "colab": {
          "base_uri": "https://localhost:8080/"
        },
        "id": "BntQ7l2L83tu",
        "outputId": "6fd7374e-5c0b-482f-9baa-5d704eb8a44c"
      },
      "outputs": [
        {
          "name": "stdout",
          "output_type": "stream",
          "text": [
            "[17 15  9 31 33 41  8 14 13 22 27 43 32 14]\n",
            "median:  19.5\n",
            "range:  35\n",
            "quartiles  8 14.0 19.5 31.75 43\n",
            "iqr:  17.75\n"
          ]
        }
      ],
      "source": [
        "times = np.array([17, 15, 9, 31, 33, 41, 8, 14, 13, 22, 27, 43, 32, 14])\n",
        "print(times)\n",
        "median = np.median(times)\n",
        "range= times.max() - times.min()\n",
        "q0 = np.quantile(times,0)\n",
        "q1 = np.quantile(times, 0.25)\n",
        "q2 = np.quantile(times,0.5)\n",
        "q3 = np.quantile(times, 0.75)\n",
        "q4 = np.quantile(times,1)\n",
        "iqr = q3 - q1\n",
        "print(\"median: \", median)\n",
        "print(\"range: \" , range)\n",
        "print(\"quartiles \", q0, q1, q2, q3, q4)\n",
        "print(\"iqr: \" , iqr)"
      ]
    }
  ],
  "metadata": {
    "colab": {
      "provenance": []
    },
    "gpuClass": "standard",
    "kernelspec": {
      "display_name": "Python 3",
      "name": "python3"
    },
    "language_info": {
      "codemirror_mode": {
        "name": "ipython",
        "version": 3
      },
      "file_extension": ".py",
      "mimetype": "text/x-python",
      "name": "python",
      "nbconvert_exporter": "python",
      "pygments_lexer": "ipython3",
      "version": "3.12.6"
    },
    "orig_nbformat": 4
  },
  "nbformat": 4,
  "nbformat_minor": 0
}
